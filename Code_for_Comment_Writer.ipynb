{
 "cells": [
  {
   "cell_type": "markdown",
   "metadata": {
    "collapsed": false
   },
   "source": [
    "### Comment Writing Engine\n",
    "\n",
    "#### an application to help teachers write better comments in less time\n"
   ]
  },
  {
   "cell_type": "code",
   "execution_count": null,
   "metadata": {
    "collapsed": false,
    "scrolled": true
   },
   "outputs": [],
   "source": []
  },
  {
   "cell_type": "code",
   "execution_count": 31,
   "metadata": {
    "collapsed": false
   },
   "outputs": [
    {
     "data": {
      "text/plain": [
       "''"
      ]
     },
     "execution_count": 31,
     "metadata": {},
     "output_type": "execute_result"
    }
   ],
   "source": []
  },
  {
   "cell_type": "code",
   "execution_count": 4,
   "metadata": {
    "collapsed": false
   },
   "outputs": [
    {
     "name": "stdout",
     "output_type": "stream",
     "text": [
      "This year in Calculus BC We Worked On Limits, Continuity, Reimann Sums, Definite, And Indefinite Integrals. We Have Completed Three Different Summative Tests And A Group Project In Class, Studying The Formation Of Reimann Sums And Integration.\n",
      "\n",
      "The jump from Calculus BC and Precalculus is significant, and Aaron has had some difficulties adapting to this new environment. Aaron has been struggling in class this semester, and currently has a D+ so far, achieving a 65% on the Final exam. Aaron struggles with proofs, and I recommend that Aaron meet with teacher more. These are important skills and will help Aaron improve on some of their weaker areas. Aaron always completes homework. For instance, Aaron hasn't had a late assignment all year!\n",
      "\n",
      "In short Aaron struggled in Calculus BC this semester. They have not always performed in class, but I hope to see improvement next semester.\n",
      "\n"
     ]
    }
   ],
   "source": [
    "import random\n",
    "import csv\n",
    "from nltk.corpus import wordnet as wn\n",
    "\n",
    "# HEADER = \"Student , Class , Required Course (Y/N) , Grade (%) , Student Attribute (positive) , Example ,\n",
    "# Most prominent exam , Weakness, Suggestion to Improve , Previous Course Level\"\n",
    "\n",
    "class_info = {\n",
    "    'Calculus BC': \"\"\"we worked on limits, continuity, reimann sums, definite, and indefinite integrals. We have completed three different summative tests and a group project in class, studying the formation of Reimann sums and integration.\"\"\",\n",
    "    'ABCD World History': \"\"\"we worked on placehold\"\"\",\n",
    "    'English 10': \"\"\"we worked on placehold\"\"\",\n",
    "    'Accelerated Biology': \"\"\"we worked on placehold\"\"\",\n",
    "    'Buddhism': \"\"\"we worked on placehold\"\"\"\n",
    "    \n",
    "}\n",
    "\n",
    "adjectives = [\"has been amazing\", \"has been wonderful\", \"has been great\", \"has been good\", \"has worked hard\", \"has performed well\", \"has struggled\", \"needs some help\"]\n",
    "\n",
    "header = []\n",
    "comments = []\n",
    "\n",
    "with open(\"Copy of Teacher Comments Input - Sheet1.csv\") as csvfile:\n",
    "    HEADER = csvfile.readline()\n",
    "    data = csv.reader(csvfile, delimiter=',')\n",
    "    for row in data:\n",
    "        comments.append(row) \n",
    "        \n",
    "#print(comments)\n",
    "#print(HEADER)\n",
    "\n",
    "comment = ''\n",
    "grade_summary = ''\n",
    "student_attr = ''\n",
    "conclusion = ''\n",
    "\n",
    "# calculates letter grade\n",
    "def calc_grade(percentage):\n",
    "    if percentage >= 93:\n",
    "        return 'A'\n",
    "    elif percentage >= 90:\n",
    "        return 'A-'\n",
    "    elif percentage >= 87:\n",
    "        return 'B+'\n",
    "    elif percentage >= 83:\n",
    "        return 'B'\n",
    "    elif percentage >= 80:\n",
    "        return 'B-'\n",
    "    elif percentage >= 77:\n",
    "        return 'C+'\n",
    "    elif percentage >= 73:\n",
    "        return 'C'\n",
    "    elif percentage >= 67:\n",
    "        return 'D+'\n",
    "    elif percentage >= 63:\n",
    "        return 'D'\n",
    "    elif percentage >= 60:\n",
    "        return 'D-'\n",
    "    else:\n",
    "        return 'F'\n",
    "def create_course_level(student_data):\n",
    "    grade = int(student_data[3])\n",
    "    if student_data[-1] != '':\n",
    "        if grade >= 85:\n",
    "            \n",
    "            course = f'The jump from {student_data[1]} and {student_data[-1]} is significant, and {student_data[0]} has done a great job navigating this new challenge.'\n",
    "            return course\n",
    "        else:\n",
    "            course = f'The jump from {student_data[1]} and {student_data[-1]} is significant, and {student_data[0]} has had some difficulties adapting to this new environment.'\n",
    "            return course\n",
    "    else:\n",
    "        return ''\n",
    "\n",
    "def attribute_grammar(attr):\n",
    "    tmp = wn.synsets(attr.split()[0])[0].pos()\n",
    "    if tmp == 'n': \n",
    "        return True\n",
    "    else: \n",
    "        return False\n",
    "\n",
    "def create_grade_summary(student_data):\n",
    "    summary = \"\"\n",
    "    grade = calc_grade(int(student_data[3]))\n",
    "\n",
    "\n",
    "    if int(student_data[3]) > 95:\n",
    "        temp = f'{student_data[0]} is doing phenomenal in this course'\n",
    "    elif grade == \"A\":\n",
    "        temp = f'{student_data[0]} {random.choice(adjectives[0:3])} in this course'\n",
    "    elif grade == \"A-\" or grade == 'B+':\n",
    "        temp = f'{student_data[0]} {random.choice(adjectives[3:6])} in this course.'\n",
    "    elif grade == 'B-':\n",
    "        temp = f'{student_data[0]} {random.choice(adjectives[6:])} in this course.'\n",
    "    else:\n",
    "        temp = f'{student_data[0]} has been struggling in class this semester'\n",
    "    \n",
    "    summary = f\"{temp}, and currently has a {grade} so far, achieving a {student_data[6].split()[0].strip()} on the {student_data[6].split('-')[1].strip()}. \"\n",
    "    \n",
    "    summary += f\"{student_data[0]} {student_data[7].lower()}, \"\n",
    "    \n",
    "    summary += f\"and I recommend that {student_data[0]} {student_data[8].lower()} more. \"\n",
    "    \n",
    "    if int(student_data[3]) > 90:\n",
    "        summary += f\"This will help {student_data[0]} reach greater heights and hopefully allow them to further explore their learning.\"\n",
    "    else:\n",
    "        summary += f\"These are important skills and will help {student_data[0]} improve on some of their weaker areas.\"\n",
    "    \n",
    "    \n",
    "    return summary\n",
    "\n",
    "    \n",
    "def create_attribute_summary(student_data):\n",
    "    pos_attr = \"\"\n",
    "    transition_list = ['For instance,','For example,']\n",
    "    transition = random.choice(transition_list)\n",
    "    if student_data[5] != '':\n",
    "        if attribute_grammar(student_data[4]):\n",
    "            pos_attr += f\"{student_data[0]} have great {student_data[4]}. {transition} {student_data[0]} {student_data[5]}\"\n",
    "        else:\n",
    "            pos_attr += f\"{student_data[0]} {student_data[4]}. {transition} {student_data[0]} {student_data[5]}\"\n",
    "            \n",
    "    else:\n",
    "        if attribute_grammar(student_data[4]):\n",
    "            pos_attr += f\"{student_data[0]} have great {student_data[4]}, and has done a great job in this aspect of the course.\"\n",
    "        else:\n",
    "            pos_attr += f\"{student_data[0]} {student_data[4]}, and has done a great job in this aspect of the course.\"\n",
    "     \n",
    "    return pos_attr\n",
    "\n",
    "def create_summary(student_data):\n",
    "    if int(student_data[3]) >= 90:\n",
    "        return f\"{student_data[0]} has had a great semester in {student_data[1]} these past few months and has been a wonderful student to have.\"\n",
    "    elif int(student_data[3]) >= 80:\n",
    "        return f\"{student_data[0]} has had some success this semester in {student_data[1]} these past few months. They have some area for improvement, but have worked diligently throughout.\"\n",
    "    elif int(student_data[3]) >= 70:\n",
    "        return f\"{student_data[0]} struggled in {student_data[1]} this semester. They have not always performed in class, but I hope to see improvement next semester.\"\n",
    "    else:\n",
    "        return f\"{student_data[0]} has not performed this semester and I hope to see major improvement next semester.\"\n",
    "    \n",
    "for student_data in comments:\n",
    "    opener = f\"This year in {student_data[1]} {class_info[student_data[1]].title()}\"\n",
    "    grade_summary = create_grade_summary(student_data)\n",
    "    course_level = create_course_level(student_data)\n",
    "    student_attr = create_attribute_summary(student_data)\n",
    "    conclusion = create_summary(student_data)\n",
    "    comment = f\"{opener}\\n\\n{course_level} {grade_summary} {student_attr}\\n\\nIn short {conclusion}\\n\"\n",
    "    print(comment)\n",
    "    with open(f\"{student_data[0]}.txt\", 'w') as f:\n",
    "        f.write(comment)\n",
    "#print(comments[0])\n",
    "#student_data = comments[0]\n",
    "#course_level = create_course_level(student_data)\n",
    "#print(student_attr)"
   ]
  },
  {
   "cell_type": "code",
   "execution_count": null,
   "metadata": {
    "collapsed": false
   },
   "outputs": [],
   "source": []
  },
  {
   "cell_type": "code",
   "execution_count": null,
   "metadata": {
    "collapsed": false
   },
   "outputs": [],
   "source": []
  }
 ],
 "metadata": {
  "kernelspec": {
   "argv": [
    "/ext/jupyter/kernels/anaconda2022/launch.sh",
    "{connection_file}"
   ],
   "display_name": "Python 3 (Anaconda 2022)",
   "env": {},
   "language": "python",
   "metadata": {
    "cocalc": {
     "description": "Anaconda 2022.05 Python 3 environment",
     "priority": 5,
     "url": "https://www.anaconda.com/distribution/"
    }
   },
   "name": "anaconda2022",
   "resource_dir": "/ext/jupyter/kernels/anaconda2022"
  },
  "language_info": {
   "codemirror_mode": {
    "name": "ipython",
    "version": 3
   },
   "file_extension": ".py",
   "mimetype": "text/x-python",
   "name": "python",
   "nbconvert_exporter": "python",
   "pygments_lexer": "ipython3",
   "version": "3.9.15"
  }
 },
 "nbformat": 4,
 "nbformat_minor": 4
}
